{
 "cells": [
  {
   "cell_type": "code",
   "execution_count": null,
   "metadata": {},
   "outputs": [],
   "source": [
    "#3 숫자카드게임\n",
    "\n",
    "N,M = list(map(int, input().split()))\n",
    "\n",
    "field = []\n",
    "\n",
    "for i in range(0,N):\n",
    "    field.append(list(map(int, input().split())))\n",
    "    \n",
    "res = []\n",
    "#find min of each row\n",
    "for i in field:\n",
    "    res.append(min(i))\n",
    "#find max of (min of row)\n",
    "print(max(res))"
   ]
  },
  {
   "cell_type": "code",
   "execution_count": null,
   "metadata": {},
   "outputs": [],
   "source": [
    "# 4 1이될때까지\n",
    "N,K = list(map(int, input().split()))\n",
    "\n",
    "cnt = 0\n",
    "#greedy is good ('/' always ensure better on decresion at condition)\n",
    "while N !=1:\n",
    "    N = N/K if N%K==0 else N-1\n",
    "    cnt = cnt+1\n",
    "print(cnt)"
   ]
  },
  {
   "cell_type": "code",
   "execution_count": null,
   "metadata": {},
   "outputs": [],
   "source": [
    "# 5 모험가길드\n",
    "N = int(input())\n",
    "M = list(map(int, input().split()))\n",
    "\n",
    "M.sort()\n",
    "cnt = 0\n",
    "while checkGroup(M) == True:\n",
    "    newGroup = []\n",
    "    for i in M:\n",
    "        newGroup.append(i)\n",
    "        M.remove(i)\n",
    "        if checkGroup(newGroup):\n",
    "            cnt = cnt+1\n",
    "            break\n",
    "print(cnt)\n",
    "    \n",
    "def checkGroup(li:list) -> bool:\n",
    "    return True if (max(li)<=len(li)) else False\n"
   ]
  },
  {
   "cell_type": "code",
   "execution_count": null,
   "metadata": {},
   "outputs": [],
   "source": [
    "#6 곱하기 혹은 더하기\n",
    "N = [int(x) for x in input()]\n",
    "res = 0\n",
    "# if not 0 always X better than +\n",
    "for i in N:\n",
    "    res = (res * i) if (res != 0 and i != 0) else res + i\n",
    "print(res)"
   ]
  },
  {
   "cell_type": "code",
   "execution_count": null,
   "metadata": {},
   "outputs": [],
   "source": [
    "# 7 문자열뒤집기\n",
    "import re\n",
    "S = input()\n",
    "#continuous number has no meaning\n",
    "S = re.sub('0+','0',S)\n",
    "S = re.sub('1+','1',S)\n",
    "#if there are length of 2n string n trial needed\n",
    "print(len(S)//2)\n",
    "\n"
   ]
  },
  {
   "cell_type": "code",
   "execution_count": null,
   "metadata": {},
   "outputs": [],
   "source": [
    "#8 만들수 없는 금액\n",
    "\n",
    "N = int(input())\n",
    "M = list(map(int, input().split()))\n",
    "\n",
    "mapp = [False]* sum(M)\n",
    "\n",
    "#calculate 2^n to make map\n",
    "for j in range(0,pow(2,len(M))):\n",
    "    plate = [0] * len(M)\n",
    "    plate = makePlate(plate,j,len(M))\n",
    "    res = sum([plate[i]*M[i] for i in range(0,len(M))])\n",
    "    mapp[res-1] = True\n",
    "\n",
    "print(mapp.index(False)+1)\n",
    "\n",
    "# nCr could represent as n binarys\n",
    "def makePlate(plate:list,target:int,leng:int)->list:\n",
    "    binaryTarget = bin(target)[2:]\n",
    "    for i in range(1,len(binaryTarget)+1):\n",
    "        if binaryTarget[-i] == '1':\n",
    "            plate[-i] = 1\n",
    "    return plate"
   ]
  },
  {
   "cell_type": "code",
   "execution_count": null,
   "metadata": {},
   "outputs": [],
   "source": [
    "#9 볼링공 고르기\n",
    "N,M = list(map(int, input().split()))\n",
    "B = list(map(int, input().split()))\n",
    "\n",
    "B.sort()\n",
    "cnt = 0\n",
    "for i in B:\n",
    "    #select weight of ball that does not select at first\n",
    "    res = [value for value in B if value != i]\n",
    "    cnt += len(res)\n",
    "#each duplicated once\n",
    "print(cnt//2)"
   ]
  }
 ],
 "metadata": {
  "kernelspec": {
   "display_name": "Python 3",
   "language": "python",
   "name": "python3"
  },
  "language_info": {
   "codemirror_mode": {
    "name": "ipython",
    "version": 3
   },
   "file_extension": ".py",
   "mimetype": "text/x-python",
   "name": "python",
   "nbconvert_exporter": "python",
   "pygments_lexer": "ipython3",
   "version": "3.8.5"
  }
 },
 "nbformat": 4,
 "nbformat_minor": 4
}
