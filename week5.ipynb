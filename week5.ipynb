{
 "cells": [
  {
   "cell_type": "code",
   "execution_count": 47,
   "metadata": {
    "scrolled": true
   },
   "outputs": [
    {
     "name": "stdout",
     "output_type": "stream",
     "text": [
      "12\n",
      "Junkyu 50 60 100\n",
      "Sangkeun 80 60 50\n",
      "Sunyoung 80 70 100\n",
      "Soong 50 60 90\n",
      "Haebin 50 60 100\n",
      "Kangsoo 60 80 100\n",
      "Donghyuk 80 60 100\n",
      "Sei 70 70 70\n",
      "Wonseob 70 70 90\n",
      "Sanghyun 70 70 80\n",
      "nsj 80 80 80\n",
      " Taewhan 50 60 90\n"
     ]
    }
   ],
   "source": [
    "#23 국영수\n",
    "\n",
    "N = int(input())\n",
    "\n",
    "field = list()\n",
    "\n",
    "for i in range(0,N):\n",
    "    data = input().split()\n",
    "    field.append(Student(data[0],int(data[1]),int(data[3]),int(data[2]),))\n",
    "    \n",
    "\n",
    "    "
   ]
  },
  {
   "cell_type": "code",
   "execution_count": 54,
   "metadata": {},
   "outputs": [
    {
     "name": "stdout",
     "output_type": "stream",
     "text": [
      "Donghyuk\n",
      "Sangkeun\n",
      "Sunyoung\n",
      "nsj\n",
      "Wonseob\n",
      "Sanghyun\n",
      "Sei\n",
      "Kangsoo\n",
      "Haebin\n",
      "Junkyu\n",
      "Soong\n",
      "Taewhan\n"
     ]
    }
   ],
   "source": [
    "ret = field\n",
    "\n",
    "ret = sorted(ret,key=lambda student:student.name, reverse = False)\n",
    "ret = sorted(ret,key=lambda student:student.math, reverse = True)\n",
    "ret = sorted(ret,key=lambda student:student.english, reverse = False)\n",
    "ret = sorted(ret,key=lambda student:student.korean, reverse = True)\n",
    "for i in ret:\n",
    "    print(i.name)"
   ]
  },
  {
   "cell_type": "code",
   "execution_count": 5,
   "metadata": {},
   "outputs": [],
   "source": [
    "class Student:\n",
    "    def __init__(self,name:str,kor:int,math:int,eng:int):\n",
    "        self.name = name\n",
    "        self.korean = kor\n",
    "        self.math = math\n",
    "        self.english = eng"
   ]
  },
  {
   "cell_type": "code",
   "execution_count": 66,
   "metadata": {},
   "outputs": [
    {
     "name": "stdout",
     "output_type": "stream",
     "text": [
      "4\n",
      "5 1 7 9\n"
     ]
    }
   ],
   "source": [
    "#24 안테나\n",
    "\n",
    "N = int(input())\n",
    "\n",
    "field = list(map(int, input().split()))"
   ]
  },
  {
   "cell_type": "code",
   "execution_count": 70,
   "metadata": {},
   "outputs": [
    {
     "name": "stdout",
     "output_type": "stream",
     "text": [
      "5\n"
     ]
    }
   ],
   "source": [
    "field.sort()\n",
    "possible_list = list(dict.fromkeys(field))\n",
    "min = 9999999999\n",
    "ans = 0\n",
    "for i in possible_list:\n",
    "    ret = calc_distance(i,field)\n",
    "    if(ret<min):\n",
    "        min = ret\n",
    "        ans = i\n",
    "print(ans)"
   ]
  },
  {
   "cell_type": "code",
   "execution_count": 67,
   "metadata": {},
   "outputs": [],
   "source": [
    "def calc_distance(target:int,lists:list)-> int:\n",
    "    ret = 0\n",
    "    for i in lists:\n",
    "        ret += abs(target - i)\n",
    "    return ret"
   ]
  },
  {
   "cell_type": "code",
   "execution_count": 103,
   "metadata": {},
   "outputs": [
    {
     "name": "stdout",
     "output_type": "stream",
     "text": [
      "4\n",
      "4 4 4 4 4\n"
     ]
    }
   ],
   "source": [
    "#25 실패율\n",
    "\n",
    "N = int(input())\n",
    "\n",
    "field = list(map(int, input().split()))"
   ]
  },
  {
   "cell_type": "code",
   "execution_count": 110,
   "metadata": {},
   "outputs": [
    {
     "name": "stdout",
     "output_type": "stream",
     "text": [
      "4\n",
      "1\n",
      "2\n",
      "3\n"
     ]
    }
   ],
   "source": [
    "answer_sheet =  [Stage(x) for x in range(N+2)]\n",
    "\n",
    "for i in field:\n",
    "    answer_sheet[i].fail +=1\n",
    "\n",
    "people_failed_before = 0\n",
    "for i in answer_sheet:\n",
    "    divi = len(field) - people_failed_before\n",
    "    if(divi == 0):\n",
    "        divi=1\n",
    "    i.failure = i.fail / divi\n",
    "    people_failed_before += i.fail\n",
    "\n",
    "answer_sheet = answer_sheet[1:-1]\n",
    "answer_sheet = sorted(answer_sheet,key=lambda stage:stage.failure, reverse = True)\n",
    "\n",
    "for i in answer_sheet:\n",
    "    print(i.id)"
   ]
  },
  {
   "cell_type": "code",
   "execution_count": 79,
   "metadata": {},
   "outputs": [],
   "source": [
    "class Stage:\n",
    "    def __init__(self,id,):\n",
    "        self.id = id\n",
    "        self.fail = 0\n",
    "        self.failure = 0.0"
   ]
  },
  {
   "cell_type": "code",
   "execution_count": 120,
   "metadata": {},
   "outputs": [
    {
     "name": "stdout",
     "output_type": "stream",
     "text": [
      "3\n",
      "10\n",
      "20\n",
      "40\n",
      "100\n"
     ]
    }
   ],
   "source": [
    "#26 카드 정렬하기\n",
    "\n",
    "N = int(input())\n",
    "\n",
    "field = list()\n",
    "\n",
    "for i in range(0,N):\n",
    "    field.append(int(input()))\n",
    "field.sort()\n",
    "cnt = 0\n",
    "while (len(field) !=1):\n",
    "    newDummy = field[0]+field[1]\n",
    "    cnt += newDummy\n",
    "    field = field[2:]\n",
    "    field.append(newDummy)\n",
    "    field.sort()\n",
    "print(cnt)"
   ]
  }
 ],
 "metadata": {
  "kernelspec": {
   "display_name": "Python 3",
   "language": "python",
   "name": "python3"
  },
  "language_info": {
   "codemirror_mode": {
    "name": "ipython",
    "version": 3
   },
   "file_extension": ".py",
   "mimetype": "text/x-python",
   "name": "python",
   "nbconvert_exporter": "python",
   "pygments_lexer": "ipython3",
   "version": "3.8.5"
  }
 },
 "nbformat": 4,
 "nbformat_minor": 4
}
